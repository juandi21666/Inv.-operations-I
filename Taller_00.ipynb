{
  "nbformat": 4,
  "nbformat_minor": 0,
  "metadata": {
    "colab": {
      "provenance": [],
      "toc_visible": true,
      "authorship_tag": "ABX9TyP9fydxmfhddyf2/WEL5DhX",
      "include_colab_link": true
    },
    "kernelspec": {
      "name": "python3",
      "display_name": "Python 3"
    },
    "language_info": {
      "name": "python"
    }
  },
  "cells": [
    {
      "cell_type": "markdown",
      "metadata": {
        "id": "view-in-github",
        "colab_type": "text"
      },
      "source": [
        "<a href=\"https://colab.research.google.com/github/juandi21666/Inv.-operations-I/blob/main/Taller_00.ipynb\" target=\"_parent\"><img src=\"https://colab.research.google.com/assets/colab-badge.svg\" alt=\"Open In Colab\"/></a>"
      ]
    },
    {
      "cell_type": "markdown",
      "source": [
        "##Esto es sub.\n",
        "\n",
        "[ChatGPT](https://chat.openai.com/)\n",
        "[Link Preguntaller00](https://chat.openai.com/share/05b5f3ad-9813-40bf-b923-435c4e147590)"
      ],
      "metadata": {
        "id": "wLmiv__Wngnt"
      }
    },
    {
      "cell_type": "code",
      "source": [
        "print(\"hola mundo\")"
      ],
      "metadata": {
        "colab": {
          "base_uri": "https://localhost:8080/"
        },
        "id": "aiKPRP6plQ4i",
        "outputId": "80ebaece-3664-4496-b8be-91ff225201de"
      },
      "execution_count": 1,
      "outputs": [
        {
          "output_type": "stream",
          "name": "stdout",
          "text": [
            "hola mundo\n"
          ]
        }
      ]
    },
    {
      "cell_type": "markdown",
      "source": [
        "# Actualización de contenido"
      ],
      "metadata": {
        "id": "X36ayVApspaM"
      }
    }
  ]
}